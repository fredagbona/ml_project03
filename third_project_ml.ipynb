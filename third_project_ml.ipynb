{
  "nbformat": 4,
  "nbformat_minor": 0,
  "metadata": {
    "colab": {
      "name": "third_project_ml.ipynb",
      "provenance": [],
      "collapsed_sections": [],
      "authorship_tag": "ABX9TyP6QHZahCSsOy6WnhP1YuEv",
      "include_colab_link": true
    },
    "kernelspec": {
      "name": "python3",
      "display_name": "Python 3"
    },
    "language_info": {
      "name": "python"
    }
  },
  "cells": [
    {
      "cell_type": "markdown",
      "metadata": {
        "id": "view-in-github",
        "colab_type": "text"
      },
      "source": [
        "<a href=\"https://colab.research.google.com/github/fredagbona/ml_project03/blob/main/third_project_ml.ipynb\" target=\"_parent\"><img src=\"https://colab.research.google.com/assets/colab-badge.svg\" alt=\"Open In Colab\"/></a>"
      ]
    },
    {
      "cell_type": "markdown",
      "source": [
        "n = 43\n",
        "t0 = 0.00008m\n",
        "\n",
        "formule : tn = t0 * 2**n\n",
        "\n",
        "\n",
        "h0 = t0\n",
        "hn = 3776m\n",
        "hn = t0 * 2**n\n",
        "\n",
        "2**n = hn/t0\n",
        "\n",
        "ln(2**n) = ln(hn/t0)\n",
        "\n",
        "nln2 = ln(hn/t0)\n",
        "nln2 = ln(h)-ln(t0)\n",
        "n = (ln(3776)-ln(0.00008) / ln2)\n"
      ],
      "metadata": {
        "id": "Gl794Dzzs4uH"
      }
    },
    {
      "cell_type": "code",
      "execution_count": null,
      "metadata": {
        "id": "DmP9eajAl464",
        "colab": {
          "base_uri": "https://localhost:8080/"
        },
        "outputId": "67b47327-17d7-4402-91cc-e7bb2a97b219"
      },
      "outputs": [
        {
          "output_type": "stream",
          "name": "stdout",
          "text": [
            "25\n"
          ]
        }
      ],
      "source": [
        "# Problème 1\n",
        "import numpy\n",
        "\n",
        "t_0 = 0.00008\n",
        "hn = 3776\n",
        "\n",
        "\n",
        "n = (numpy.log(hn/t_0) / numpy.log(2))\n",
        "\n",
        "print(round(n))\n"
      ]
    },
    {
      "cell_type": "code",
      "source": [
        "#Problème 2\n",
        "\n",
        "\n",
        "def calculer_n(hn,t_0 = 0.00008):\n",
        "  return (round((numpy.log(hn/t_0) / numpy.log(2))))\n",
        "\n",
        "calculer_n(4.0175 * 10**16)\n",
        "\n",
        "\n"
      ],
      "metadata": {
        "colab": {
          "base_uri": "https://localhost:8080/"
        },
        "id": "HBAl9LFWDvm-",
        "outputId": "1628adfa-35cf-47f7-95dd-97e7f9b1cb8c"
      },
      "execution_count": null,
      "outputs": [
        {
          "output_type": "execute_result",
          "data": {
            "text/plain": [
              "69"
            ]
          },
          "metadata": {},
          "execution_count": 19
        }
      ]
    },
    {
      "cell_type": "code",
      "source": [
        "#Problème 3\n",
        "\n",
        "import math\n",
        "\n",
        "def calculer_longueur(n, t_0 = 0.0008):\n",
        "  a=(math.pi*t_0)/6\n",
        "  b=(2**n +4)*(2**n -1)\n",
        "  print(a*b)\n",
        "\n",
        "calculer_longueur(43)\n",
        "calculer_longueur(25)\n",
        "calculer_longueur(69)\n"
      ],
      "metadata": {
        "colab": {
          "base_uri": "https://localhost:8080/"
        },
        "id": "Us_shRp_G8Zu",
        "outputId": "2b094516-83cb-4c6a-c965-e35a231d7596"
      },
      "execution_count": null,
      "outputs": [
        {
          "output_type": "stream",
          "name": "stdout",
          "text": [
            "3.2409194441707805e+22\n",
            "471615892300.97046\n",
            "1.4595803601100345e+38\n"
          ]
        }
      ]
    }
  ]
}